{
  "nbformat": 4,
  "nbformat_minor": 0,
  "metadata": {
    "colab": {
      "provenance": [],
      "authorship_tag": "ABX9TyMgGZjD5pqQVO/9xx/Fk4U9",
      "include_colab_link": true
    },
    "kernelspec": {
      "name": "python3",
      "display_name": "Python 3"
    },
    "language_info": {
      "name": "python"
    }
  },
  "cells": [
    {
      "cell_type": "markdown",
      "metadata": {
        "id": "view-in-github",
        "colab_type": "text"
      },
      "source": [
        "<a href=\"https://colab.research.google.com/github/Rocketz64/College_Content/blob/main/Muhammad_Alfaiq_Rido_Salafy_24060124140148_Kelas_D_Tugas1IndividuMetnum.ipynb\" target=\"_parent\"><img src=\"https://colab.research.google.com/assets/colab-badge.svg\" alt=\"Open In Colab\"/></a>"
      ]
    },
    {
      "cell_type": "code",
      "execution_count": 1,
      "metadata": {
        "colab": {
          "base_uri": "https://localhost:8080/"
        },
        "id": "m7lV4Noml7tr",
        "outputId": "36ce96b8-7779-4142-9df6-e50026da5ca0"
      },
      "outputs": [
        {
          "output_type": "stream",
          "name": "stdout",
          "text": [
            "8A DERET MCLAURIN\n",
            "============================\n",
            "Pendekatan deret Maclaurin dari ln(1 + 0.2) hingga 5 suku: 0.182266666666667\n",
            "Nilai sebenarnya dari ln(1 + 0.2): 0.182321556793955\n",
            "Galat menggunakan deret Maclaurin: 0.0000548901272879043\n",
            "=========================================================\n",
            "\n",
            "8A DERET TAYLOR\n",
            "============================\n",
            "Pendekatan deret Taylor dari ln(1 + 0.2) di sekitar titik 0.2 hingga 5 suku: 0.182321556793955\n",
            "Nilai sebenarnya dari ln(1 + 0.2): 0.182321556793955\n",
            "Galat menggunakan deret Taylor: 5.55111512312578E-17\n",
            "=========================================================\n",
            "\n",
            "8B DERET MACLAURIN\n",
            "============================\n",
            "Pendekatan deret Maclaurin dari 1/sqrt(1 + 0.2) hingga 5 suku: 0.182266666666667\n",
            "Nilai sebenarnya dari 1/sqrt(1 + 0.2): 0.912870929175277\n",
            "Galat menggunakan deret Maclaurin: 0.730604262508610\n",
            "=========================================================\n",
            "\n",
            "8b DERET TAYLOR\n",
            "============================\n",
            "Pendekatan deret Taylor dari 1/sqrt(1 + 0.2) di sekitar titik 0.2 hingga 5 suku: 0.182321556793955\n",
            "Nilai sebenarnya dari 1/sqrt(1 + 0.2): 0.912870929175277\n",
            "Galat menggunakan deret Taylor: 0.730549372381322\n",
            "=========================================================\n",
            "\n"
          ]
        }
      ],
      "source": [
        "import sympy as sp\n",
        "\n",
        "#8A (Deret McLaurin)\n",
        "x, a = sp.symbols('x a')\n",
        "\n",
        "f = sp.ln(1 + x)\n",
        "\n",
        "n = 5\n",
        "maclaurin_series = sp.series(f, x, 0, n).removeO()\n",
        "\n",
        "def actual_ln(value):\n",
        "    return sp.ln(1 + value).evalf()\n",
        "\n",
        "x_value = 0.2\n",
        "\n",
        "maclaurin_approx = maclaurin_series.evalf(subs={x: x_value})\n",
        "\n",
        "actual_value = actual_ln(x_value)\n",
        "\n",
        "error_maclaurin = abs(actual_value - maclaurin_approx)\n",
        "\n",
        "print(\"8A DERET MCLAURIN\")\n",
        "print(\"============================\")\n",
        "print(f\"Pendekatan deret Maclaurin dari ln(1 + {x_value}) hingga 5 suku: {maclaurin_approx}\")\n",
        "print(f\"Nilai sebenarnya dari ln(1 + {x_value}): {actual_value}\")\n",
        "print(f\"Galat menggunakan deret Maclaurin: {error_maclaurin}\")\n",
        "print(\"=========================================================\")\n",
        "print(\"\")\n",
        "\n",
        "#8A (Deret Taylor)\n",
        "taylor_series = sp.series(f, x, a, n).removeO()\n",
        "\n",
        "a_value = 0.2\n",
        "\n",
        "taylor_approx = taylor_series.evalf(subs={x: x_value, a: a_value})\n",
        "\n",
        "error_taylor = abs(actual_value - taylor_approx)\n",
        "\n",
        "print(\"8A DERET TAYLOR\")\n",
        "print(\"============================\")\n",
        "print(f\"Pendekatan deret Taylor dari ln(1 + {x_value}) di sekitar titik {a_value} hingga 5 suku: {taylor_approx}\")\n",
        "print(f\"Nilai sebenarnya dari ln(1 + {x_value}): {actual_value}\")\n",
        "print(f\"Galat menggunakan deret Taylor: {error_taylor}\")\n",
        "print(\"=========================================================\")\n",
        "print(\"\")\n",
        "\n",
        "# 8B\n",
        "f = 1 / sp.sqrt(1 + x)\n",
        "\n",
        "def actual_value(value):\n",
        "    return f.subs(x, value).evalf()\n",
        "\n",
        "actual_val = actual_value(x_value)\n",
        "\n",
        "error_maclaurin = abs(actual_val - maclaurin_approx)\n",
        "\n",
        "error_taylor = abs(actual_val - taylor_approx)\n",
        "\n",
        "print(\"8B DERET MACLAURIN\")\n",
        "print(\"============================\")\n",
        "print(f\"Pendekatan deret Maclaurin dari 1/sqrt(1 + {x_value}) hingga 5 suku: {maclaurin_approx}\")\n",
        "print(f\"Nilai sebenarnya dari 1/sqrt(1 + {x_value}): {actual_val}\")\n",
        "print(f\"Galat menggunakan deret Maclaurin: {error_maclaurin}\")\n",
        "print(\"=========================================================\")\n",
        "print(\"\")\n",
        "\n",
        "print(\"8B DERET TAYLOR\")\n",
        "print(\"============================\")\n",
        "print(f\"Pendekatan deret Taylor dari 1/sqrt(1 + {x_value}) di sekitar titik {a_value} hingga 5 suku: {taylor_approx}\")\n",
        "print(f\"Nilai sebenarnya dari 1/sqrt(1 + {x_value}): {actual_val}\")\n",
        "print(f\"Galat menggunakan deret Taylor: {error_taylor}\")\n",
        "print(\"=========================================================\")\n",
        "print(\"\")"
      ]
    }
  ]
}